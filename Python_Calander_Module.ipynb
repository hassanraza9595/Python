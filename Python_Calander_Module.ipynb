{
 "cells": [
  {
   "cell_type": "code",
   "execution_count": 15,
   "metadata": {},
   "outputs": [],
   "source": [
    "# How to Get Started With the Calendar Module\n",
    "# The calendar module is easy to use.\n",
    "# And since it's a built-in Python module, \n",
    "# you don't need to install it separately.\n",
    "\n",
    "# To get started, open your Python file and import the calendar module:\n",
    "\n",
    "import calendar"
   ]
  },
  {
   "cell_type": "code",
   "execution_count": 33,
   "metadata": {},
   "outputs": [
    {
     "name": "stdout",
     "output_type": "stream",
     "text": [
      "  Monday   Tuesday  Wednesday  Thursday   Friday   Saturday   Sunday \n"
     ]
    }
   ],
   "source": [
    "# See the Days of the Week\n",
    "# Starting with Monday, the module's default starting day of the week,\n",
    "# you can output the days of the week in an abbreviated form using\n",
    "# the weekheader() function.\n",
    "\n",
    "# The weekheader() function of the module, however,\n",
    "# accepts a width argument. This is an integer that specifies the number or\n",
    "# length of the abbreviated string:\n",
    "\n",
    "print(calendar.weekheader(9))"
   ]
  },
  {
   "cell_type": "code",
   "execution_count": 36,
   "metadata": {},
   "outputs": [
    {
     "name": "stdout",
     "output_type": "stream",
     "text": [
      "Sun Mon Tue Wed Thu Fri Sat\n"
     ]
    }
   ],
   "source": [
    "# The module sets the first day of the week to Monday by default.\n",
    "# You can change this to Sunday using the setfirstweekday() function\n",
    "# of the calendar module.\n",
    "\n",
    "# Now try to set the first day of the week back to Sunday.\n",
    "# Then reprint the week headers as you did above:\n",
    "\n",
    "# set the first day of the week to Sunday:  \n",
    "calendar.setfirstweekday(calendar.SUNDAY)\n",
    "\n",
    "print(calendar.weekheader(3)) # set the abbreviation length to 3  "
   ]
  },
  {
   "cell_type": "code",
   "execution_count": 44,
   "metadata": {},
   "outputs": [
    {
     "name": "stdout",
     "output_type": "stream",
     "text": [
      "False\n"
     ]
    }
   ],
   "source": [
    "# See if a Year Is a Leap or Not\n",
    "# Python lets you check whether a year is a leap or not\n",
    "# when you invoke the isleap() function from the calendar class.\n",
    "\n",
    "print(calendar.isleap(2021))"
   ]
  },
  {
   "cell_type": "markdown",
   "metadata": {},
   "source": [
    "<b>Check the Number of Leap Days Between Specific Year Ranges</b>\n",
    "You use the leapdays() to check the number of leap days between specific year ranges."
   ]
  },
  {
   "cell_type": "code",
   "execution_count": 46,
   "metadata": {},
   "outputs": [
    {
     "name": "stdout",
     "output_type": "stream",
     "text": [
      "There are 2 leap days between 2021 and 2030\n"
     ]
    }
   ],
   "source": [
    "checkleap = calendar.leapdays(2021, 2030)\n",
    "print(\"There are {} leap days between 2021 and 2030\".format(checkleap))"
   ]
  },
  {
   "cell_type": "markdown",
   "metadata": {},
   "source": [
    "<b>Check the First Week Day in a Month</b>\n",
    "The module returns a list index of the days in a week. In essence, Monday, the default first weekday, is equivalent to zero, while Tuesday is one—in that order, up to Sunday, the last weekday, which is the sixth index."
   ]
  },
  {
   "cell_type": "code",
   "execution_count": 48,
   "metadata": {},
   "outputs": [
    {
     "name": "stdout",
     "output_type": "stream",
     "text": [
      "0\n"
     ]
    }
   ],
   "source": [
    "print(calendar.firstweekday())"
   ]
  },
  {
   "cell_type": "markdown",
   "metadata": {},
   "source": [
    "Using this insight, let's check the first day of September 2020 using the <b>weekday()</b> function:"
   ]
  },
  {
   "cell_type": "code",
   "execution_count": 52,
   "metadata": {},
   "outputs": [
    {
     "name": "stdout",
     "output_type": "stream",
     "text": [
      "4\n"
     ]
    }
   ],
   "source": [
    "print(calendar.weekday(2021,10,1))"
   ]
  },
  {
   "cell_type": "markdown",
   "metadata": {},
   "source": [
    "You can also check the first day of the month and see the number of days in that month.\n",
    "\n",
    "To do that, use <b>monthrange():</b>"
   ]
  },
  {
   "cell_type": "code",
   "execution_count": 53,
   "metadata": {},
   "outputs": [
    {
     "name": "stdout",
     "output_type": "stream",
     "text": [
      "(4, 31)\n"
     ]
    }
   ],
   "source": [
    "print(calendar.monthrange(2021,10))"
   ]
  },
  {
   "cell_type": "markdown",
   "metadata": {},
   "source": [
    "<b>Output a Month Calendar</b>\n",
    "To see the calendar for a month, use the <b>month()</b> function from the calendar class. In addition to the year and month of interest, it accepts optional width (w) and length (l) arguments.\n",
    "\n",
    "These arguments are optional. So the module sets them to zero by default even if you don't specify them."
   ]
  },
  {
   "cell_type": "code",
   "execution_count": 61,
   "metadata": {},
   "outputs": [
    {
     "name": "stdout",
     "output_type": "stream",
     "text": [
      "                                October 2021\n",
      "  Monday    Tuesday   Wednesday   Thursday    Friday    Saturday    Sunday\n",
      "                                                 1          2          3\n",
      "     4          5          6          7          8          9         10\n",
      "    11         12         13         14         15         16         17\n",
      "    18         19         20         21         22         23         24\n",
      "    25         26         27         28         29         30         31\n",
      "\n"
     ]
    }
   ],
   "source": [
    "print(calendar.month(theyear = 2021, themonth= 10, w= 10, l=1))"
   ]
  },
  {
   "cell_type": "markdown",
   "metadata": {},
   "source": [
    "<b>Output a Calendar Year</b>\n",
    "Ultimately, you can output the entire calendar year using the <b><h3>calendar function</h3></b> of the module:"
   ]
  },
  {
   "cell_type": "code",
   "execution_count": 84,
   "metadata": {},
   "outputs": [
    {
     "name": "stdout",
     "output_type": "stream",
     "text": [
      "                                                               2021\n",
      "\n",
      "      January               February               March                 April                  May                   June\n",
      "Mo Tu We Th Fr Sa Su  Mo Tu We Th Fr Sa Su  Mo Tu We Th Fr Sa Su  Mo Tu We Th Fr Sa Su  Mo Tu We Th Fr Sa Su  Mo Tu We Th Fr Sa Su\n",
      "             1  2  3   1  2  3  4  5  6  7   1  2  3  4  5  6  7            1  2  3  4                  1  2      1  2  3  4  5  6\n",
      " 4  5  6  7  8  9 10   8  9 10 11 12 13 14   8  9 10 11 12 13 14   5  6  7  8  9 10 11   3  4  5  6  7  8  9   7  8  9 10 11 12 13\n",
      "11 12 13 14 15 16 17  15 16 17 18 19 20 21  15 16 17 18 19 20 21  12 13 14 15 16 17 18  10 11 12 13 14 15 16  14 15 16 17 18 19 20\n",
      "18 19 20 21 22 23 24  22 23 24 25 26 27 28  22 23 24 25 26 27 28  19 20 21 22 23 24 25  17 18 19 20 21 22 23  21 22 23 24 25 26 27\n",
      "25 26 27 28 29 30 31                        29 30 31              26 27 28 29 30        24 25 26 27 28 29 30  28 29 30\n",
      "                                                                                        31\n",
      "\n",
      "        July                 August              September              October               November              December\n",
      "Mo Tu We Th Fr Sa Su  Mo Tu We Th Fr Sa Su  Mo Tu We Th Fr Sa Su  Mo Tu We Th Fr Sa Su  Mo Tu We Th Fr Sa Su  Mo Tu We Th Fr Sa Su\n",
      "          1  2  3  4                     1         1  2  3  4  5               1  2  3   1  2  3  4  5  6  7         1  2  3  4  5\n",
      " 5  6  7  8  9 10 11   2  3  4  5  6  7  8   6  7  8  9 10 11 12   4  5  6  7  8  9 10   8  9 10 11 12 13 14   6  7  8  9 10 11 12\n",
      "12 13 14 15 16 17 18   9 10 11 12 13 14 15  13 14 15 16 17 18 19  11 12 13 14 15 16 17  15 16 17 18 19 20 21  13 14 15 16 17 18 19\n",
      "19 20 21 22 23 24 25  16 17 18 19 20 21 22  20 21 22 23 24 25 26  18 19 20 21 22 23 24  22 23 24 25 26 27 28  20 21 22 23 24 25 26\n",
      "26 27 28 29 30 31     23 24 25 26 27 28 29  27 28 29 30           25 26 27 28 29 30 31  29 30                 27 28 29 30 31\n",
      "                      30 31\n",
      "\n"
     ]
    }
   ],
   "source": [
    "print(calendar.calendar(2021, w=2, l=1 , c=2, m=6))\n",
    "\n",
    "# While w controls the width and l controls the length between each string,\n",
    "# c and m specify the number of rows and columns, respectively."
   ]
  },
  {
   "cell_type": "code",
   "execution_count": null,
   "metadata": {},
   "outputs": [],
   "source": []
  }
 ],
 "metadata": {
  "kernelspec": {
   "display_name": "Python 3",
   "language": "python",
   "name": "python3"
  },
  "language_info": {
   "codemirror_mode": {
    "name": "ipython",
    "version": 3
   },
   "file_extension": ".py",
   "mimetype": "text/x-python",
   "name": "python",
   "nbconvert_exporter": "python",
   "pygments_lexer": "ipython3",
   "version": "3.7.4"
  }
 },
 "nbformat": 4,
 "nbformat_minor": 2
}
