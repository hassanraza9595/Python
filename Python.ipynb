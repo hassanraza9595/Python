{
 "cells": [
  {
   "cell_type": "code",
   "execution_count": 1,
   "metadata": {},
   "outputs": [],
   "source": [
    "# Python"
   ]
  },
  {
   "cell_type": "code",
   "execution_count": 2,
   "metadata": {},
   "outputs": [
    {
     "name": "stdout",
     "output_type": "stream",
     "text": [
      "Hello World!\n"
     ]
    }
   ],
   "source": [
    "print('Hello World!')"
   ]
  },
  {
   "cell_type": "code",
   "execution_count": 3,
   "metadata": {},
   "outputs": [],
   "source": [
    "# Variables in String "
   ]
  },
  {
   "cell_type": "code",
   "execution_count": 5,
   "metadata": {},
   "outputs": [],
   "source": [
    "first_name = 'Hassan'\n",
    "second_name = 'Raza'"
   ]
  },
  {
   "cell_type": "code",
   "execution_count": 6,
   "metadata": {},
   "outputs": [
    {
     "name": "stdout",
     "output_type": "stream",
     "text": [
      "Hassan\n"
     ]
    }
   ],
   "source": [
    "print(first_name)"
   ]
  },
  {
   "cell_type": "code",
   "execution_count": 9,
   "metadata": {},
   "outputs": [
    {
     "name": "stdout",
     "output_type": "stream",
     "text": [
      "Raza\n"
     ]
    }
   ],
   "source": [
    "print(second_name)"
   ]
  },
  {
   "cell_type": "code",
   "execution_count": 12,
   "metadata": {},
   "outputs": [],
   "source": [
    "full_name = first_name + ' ' + second_name"
   ]
  },
  {
   "cell_type": "code",
   "execution_count": 13,
   "metadata": {},
   "outputs": [
    {
     "name": "stdout",
     "output_type": "stream",
     "text": [
      "Hassan Raza\n"
     ]
    }
   ],
   "source": [
    "print(full_name)"
   ]
  },
  {
   "cell_type": "code",
   "execution_count": 14,
   "metadata": {},
   "outputs": [],
   "source": [
    "# Variables for numbers\n",
    "\n",
    "number = 10"
   ]
  },
  {
   "cell_type": "code",
   "execution_count": 15,
   "metadata": {},
   "outputs": [
    {
     "name": "stdout",
     "output_type": "stream",
     "text": [
      "10\n"
     ]
    }
   ],
   "source": [
    "print(number)"
   ]
  },
  {
   "cell_type": "code",
   "execution_count": 16,
   "metadata": {},
   "outputs": [],
   "source": [
    "# Math Expressions: Familiar Operators"
   ]
  },
  {
   "cell_type": "code",
   "execution_count": 17,
   "metadata": {},
   "outputs": [
    {
     "name": "stdout",
     "output_type": "stream",
     "text": [
      "8\n"
     ]
    }
   ],
   "source": [
    "sum = 4 + 4\n",
    "print(sum)"
   ]
  },
  {
   "cell_type": "code",
   "execution_count": 18,
   "metadata": {},
   "outputs": [],
   "source": [
    "loss = 1000 - 500"
   ]
  },
  {
   "cell_type": "code",
   "execution_count": 19,
   "metadata": {},
   "outputs": [
    {
     "data": {
      "text/plain": [
       "500"
      ]
     },
     "execution_count": 19,
     "metadata": {},
     "output_type": "execute_result"
    }
   ],
   "source": [
    "loss"
   ]
  },
  {
   "cell_type": "code",
   "execution_count": 20,
   "metadata": {},
   "outputs": [],
   "source": [
    "dozens = 3 * 12"
   ]
  },
  {
   "cell_type": "code",
   "execution_count": 23,
   "metadata": {},
   "outputs": [
    {
     "data": {
      "text/plain": [
       "36"
      ]
     },
     "execution_count": 23,
     "metadata": {},
     "output_type": "execute_result"
    }
   ],
   "source": [
    "dozens"
   ]
  },
  {
   "cell_type": "code",
   "execution_count": 24,
   "metadata": {},
   "outputs": [],
   "source": [
    "divide = 12 / 3"
   ]
  },
  {
   "cell_type": "code",
   "execution_count": 27,
   "metadata": {},
   "outputs": [
    {
     "data": {
      "text/plain": [
       "4.0"
      ]
     },
     "execution_count": 27,
     "metadata": {},
     "output_type": "execute_result"
    }
   ],
   "source": [
    "divide"
   ]
  },
  {
   "cell_type": "code",
   "execution_count": 28,
   "metadata": {},
   "outputs": [],
   "source": [
    "# Variables names legal and illegal\n",
    "\n",
    "# list of illegal \n",
    "\n",
    "# 1. You can't enclose it in quotation marks.\n",
    "# 2. You can't have any spaces in it.\n",
    "# 3. It can't be a number or begin with a number.\n",
    "# 4. A variable can't be any of Python's reserved words, also known as\n",
    "# keywords.\n",
    "\n",
    "# list of legal \n",
    "\n",
    "# A variable name can contain only lowercase letters, uppercase letters,\n",
    "# numbers, and underscores.\n",
    "\n",
    "# Though a variable name can't be any of Python's keywords, it can\n",
    "# contain any of those keywords.\n",
    "\n",
    "# Capital letters are fine, but be careful. Variable names are casesensitive.\n",
    "# A rose with a lowercase r is not a Rose with an uppercase\n",
    "# R. If you assign the string \"Floribundas\" to the variable rose, and\n",
    "# then ask Python for the value assigned to Rose, you'll come up empty.\n",
    "\n",
    "# Python's governing body recommends breaking up multi-word\n",
    "# variables with underscores. That's what I'll ask you to do with your\n",
    "# own variable names. It'll make them more readable, and you'll be less\n",
    "# likely to get variables mixed up."
   ]
  },
  {
   "cell_type": "code",
   "execution_count": 29,
   "metadata": {},
   "outputs": [],
   "source": [
    "# Math expressions: Eliminating ambiguity"
   ]
  },
  {
   "cell_type": "code",
   "execution_count": 32,
   "metadata": {},
   "outputs": [],
   "source": [
    "total_cost = 1 + 3 * 4"
   ]
  },
  {
   "cell_type": "code",
   "execution_count": 33,
   "metadata": {},
   "outputs": [
    {
     "data": {
      "text/plain": [
       "13"
      ]
     },
     "execution_count": 33,
     "metadata": {},
     "output_type": "execute_result"
    }
   ],
   "source": [
    "total_cost"
   ]
  },
  {
   "cell_type": "code",
   "execution_count": 36,
   "metadata": {},
   "outputs": [],
   "source": [
    "total_cost = (1 + 3) * 4"
   ]
  },
  {
   "cell_type": "code",
   "execution_count": 37,
   "metadata": {},
   "outputs": [
    {
     "data": {
      "text/plain": [
       "16"
      ]
     },
     "execution_count": 37,
     "metadata": {},
     "output_type": "execute_result"
    }
   ],
   "source": [
    "total_cost"
   ]
  },
  {
   "cell_type": "code",
   "execution_count": 38,
   "metadata": {},
   "outputs": [],
   "source": [
    "# Concatenating text strings"
   ]
  },
  {
   "cell_type": "code",
   "execution_count": 5,
   "metadata": {},
   "outputs": [
    {
     "name": "stdout",
     "output_type": "stream",
     "text": [
      "Hello World\n"
     ]
    }
   ],
   "source": [
    "greeting = \"Hello \"\n",
    "addresses = \"World\"\n",
    "whole_greetigs = greeting + addresses\n",
    "print(whole_greetigs)"
   ]
  },
  {
   "cell_type": "code",
   "execution_count": 6,
   "metadata": {},
   "outputs": [
    {
     "name": "stdout",
     "output_type": "stream",
     "text": [
      "Allow Him\n"
     ]
    }
   ],
   "source": [
    "# If Statement \n",
    "\n",
    "name = \"Hassan\"\n",
    "\n",
    "if name == \"Hassan\":\n",
    "    print('Allow Him')"
   ]
  },
  {
   "cell_type": "code",
   "execution_count": 14,
   "metadata": {},
   "outputs": [
    {
     "name": "stdout",
     "output_type": "stream",
     "text": [
      "He is  Sher Muhammad\n"
     ]
    }
   ],
   "source": [
    "# Else and Elif Statement \n",
    "\n",
    "name = \"Sher Muhammad\"\n",
    "\n",
    "if name != \"Sher Muhammad\":\n",
    "    print('Not a Editor')\n",
    "elif name == \"Sher Muhammad\":\n",
    "    print('He is ', name)\n",
    "else:\n",
    "    print('Else')"
   ]
  },
  {
   "cell_type": "code",
   "execution_count": 16,
   "metadata": {},
   "outputs": [
    {
     "name": "stdout",
     "output_type": "stream",
     "text": [
      "Try To Recurit Him\n"
     ]
    }
   ],
   "source": [
    "# Testing Set of Condition \n",
    "\n",
    "weight = 310\n",
    "time = 5\n",
    "age = 20\n",
    "height = 70\n",
    "\n",
    "if weight > 300 and time < 6 and age > 17 and height < 72:\n",
    "    status = \"Try To Recurit Him\"\n",
    "    print(status)"
   ]
  },
  {
   "cell_type": "code",
   "execution_count": 19,
   "metadata": {},
   "outputs": [
    {
     "name": "stdout",
     "output_type": "stream",
     "text": [
      "Processing...\n"
     ]
    }
   ],
   "source": [
    "# If Statements Nested\n",
    "\n",
    "if weight > 300:\n",
    "    if time < 6: \n",
    "        print('Processing...')\n",
    "    elif age > 17:\n",
    "        print('Processing...')\n",
    "else:\n",
    "    print('Not Eligible')"
   ]
  },
  {
   "cell_type": "code",
   "execution_count": 1,
   "metadata": {},
   "outputs": [
    {
     "name": "stdout",
     "output_type": "stream",
     "text": [
      "['A', 'B', 'C', 'D', 'E', 'F']\n"
     ]
    }
   ],
   "source": [
    "# Lists\n",
    "\n",
    "letters = ['A', 'B', 'C', 'D', 'E']\n",
    "\n",
    "\n",
    "\n",
    "mixed = ['A', 1, 3, 'B']\n",
    "\n",
    "# Adding and Changing Elements\n",
    "\n",
    "# using append method \n",
    "\n",
    "letters.append(\"F\")\n",
    "\n",
    "print(letters)\n",
    "\n",
    "\n",
    "# adding multiple elements \n",
    "\n",
    "letters = letters + [\"G\", \"H\"]"
   ]
  },
  {
   "cell_type": "code",
   "execution_count": 2,
   "metadata": {},
   "outputs": [
    {
     "data": {
      "text/plain": [
       "['A', 'B', 'C', 'D', 'E', 'F', 'G', 'H']"
      ]
     },
     "execution_count": 2,
     "metadata": {},
     "output_type": "execute_result"
    }
   ],
   "source": [
    "letters "
   ]
  },
  {
   "cell_type": "code",
   "execution_count": 3,
   "metadata": {},
   "outputs": [],
   "source": [
    "# adding element using insert method and mentioning index \n",
    "\n",
    "letters.insert(1, \"A1\")"
   ]
  },
  {
   "cell_type": "code",
   "execution_count": 4,
   "metadata": {},
   "outputs": [
    {
     "data": {
      "text/plain": [
       "['A', 'A1', 'B', 'C', 'D', 'E', 'F', 'G', 'H']"
      ]
     },
     "execution_count": 4,
     "metadata": {},
     "output_type": "execute_result"
    }
   ],
   "source": [
    "letters "
   ]
  },
  {
   "cell_type": "code",
   "execution_count": 5,
   "metadata": {},
   "outputs": [],
   "source": [
    "# assigning new value \n",
    "\n",
    "letters[0] = \"data\""
   ]
  },
  {
   "cell_type": "code",
   "execution_count": 6,
   "metadata": {},
   "outputs": [
    {
     "data": {
      "text/plain": [
       "['data', 'A1', 'B', 'C', 'D', 'E', 'F', 'G', 'H']"
      ]
     },
     "execution_count": 6,
     "metadata": {},
     "output_type": "execute_result"
    }
   ],
   "source": [
    "letters"
   ]
  },
  {
   "cell_type": "code",
   "execution_count": 17,
   "metadata": {},
   "outputs": [
    {
     "data": {
      "text/plain": [
       "['H', 'G', 'F', 'E', 'D', 'C', 'B', 'A1', 'data']"
      ]
     },
     "execution_count": 17,
     "metadata": {},
     "output_type": "execute_result"
    }
   ],
   "source": [
    "# Taking slices out of them \n",
    "\n",
    "\n",
    "# print(letters)\n",
    "\n",
    "# print elements  A to D\n",
    "\n",
    "# print(letters[1:5])\n",
    "\n",
    "letters[-1::-1]"
   ]
  },
  {
   "cell_type": "code",
   "execution_count": 31,
   "metadata": {},
   "outputs": [
    {
     "data": {
      "text/plain": [
       "['A1', 'A', 'A', 'A']"
      ]
     },
     "execution_count": 31,
     "metadata": {},
     "output_type": "execute_result"
    }
   ],
   "source": [
    "# Deleting and Removing Elements\n",
    "\n",
    "# del keyword and specifying the index \n",
    "\n",
    "# del letters[2] # F will be deleted from list \n",
    "\n",
    "# letters\n",
    "\n",
    "# you can also remove element by specfying value through remove method\n",
    "\n",
    "letters.append('A')\n",
    "\n",
    "letters\n",
    "\n",
    "# letters.remove('data')"
   ]
  },
  {
   "cell_type": "code",
   "execution_count": 32,
   "metadata": {},
   "outputs": [
    {
     "data": {
      "text/plain": [
       "['A1', 'A', 'A', 'A']"
      ]
     },
     "execution_count": 32,
     "metadata": {},
     "output_type": "execute_result"
    }
   ],
   "source": [
    "letters"
   ]
  },
  {
   "cell_type": "code",
   "execution_count": 33,
   "metadata": {},
   "outputs": [],
   "source": [
    "letters.remove('A1')"
   ]
  },
  {
   "cell_type": "code",
   "execution_count": 35,
   "metadata": {},
   "outputs": [
    {
     "data": {
      "text/plain": [
       "'A'"
      ]
     },
     "execution_count": 35,
     "metadata": {},
     "output_type": "execute_result"
    }
   ],
   "source": [
    "letters.pop()"
   ]
  },
  {
   "cell_type": "code",
   "execution_count": 37,
   "metadata": {},
   "outputs": [],
   "source": [
    "letters.insert(0, 'B')"
   ]
  },
  {
   "cell_type": "code",
   "execution_count": 38,
   "metadata": {},
   "outputs": [
    {
     "data": {
      "text/plain": [
       "['B', 'A', 'A']"
      ]
     },
     "execution_count": 38,
     "metadata": {},
     "output_type": "execute_result"
    }
   ],
   "source": [
    "letters"
   ]
  },
  {
   "cell_type": "markdown",
   "metadata": {},
   "source": [
    "# Tuples "
   ]
  },
  {
   "cell_type": "code",
   "execution_count": 2,
   "metadata": {},
   "outputs": [
    {
     "name": "stdout",
     "output_type": "stream",
     "text": [
      "('A', 'B', 'C', 'D', 'E')\n"
     ]
    }
   ],
   "source": [
    "# In tuple elements are fixed. They can't be changed—unless you redefine the whole tuple.\n",
    "\n",
    "tup = ('A', 'B', 'C', 'D', 'E')\n",
    "print(tup)"
   ]
  },
  {
   "cell_type": "code",
   "execution_count": 3,
   "metadata": {},
   "outputs": [
    {
     "name": "stdout",
     "output_type": "stream",
     "text": [
      "B\n"
     ]
    }
   ],
   "source": [
    "# For Loops \n",
    "\n",
    "cities = ['A', 'B', 'C', 'D', 'E']\n",
    "\n",
    "for city in cities:\n",
    "    if city == 'B':\n",
    "        print(city)\n",
    "    else:\n",
    "        pass"
   ]
  },
  {
   "cell_type": "code",
   "execution_count": 4,
   "metadata": {},
   "outputs": [
    {
     "name": "stdout",
     "output_type": "stream",
     "text": [
      "A\n",
      "B\n",
      "C\n",
      "D\n",
      "E\n"
     ]
    }
   ],
   "source": [
    "# For loop Nested \n",
    "\n",
    "for city in cities:\n",
    "    if city == 'C':\n",
    "        for city in cities:\n",
    "            print(city)"
   ]
  },
  {
   "cell_type": "code",
   "execution_count": 6,
   "metadata": {},
   "outputs": [
    {
     "name": "stdout",
     "output_type": "stream",
     "text": [
      "Enter Your Monthly Income: 90000\n",
      "Your monthly income :  90000\n"
     ]
    }
   ],
   "source": [
    "# Taking Input\n",
    "\n",
    "monthly_income = input('Enter Your Monthly Income: ')    \n",
    "print('Your monthly income : ', monthly_income)"
   ]
  },
  {
   "cell_type": "code",
   "execution_count": 10,
   "metadata": {},
   "outputs": [
    {
     "name": "stdout",
     "output_type": "stream",
     "text": [
      "Enter Name: hassan raza\n",
      "Your Name is:  Hassan Raza\n"
     ]
    }
   ],
   "source": [
    "# Changing Case\n",
    "\n",
    "# name  = input('Enter Name: ')\n",
    "# print('Your Name is: ',name.upper())\n",
    "\n",
    "# name  = input('Enter Name: ')\n",
    "# print('Your Name is: ',name.lower())\n",
    "\n",
    "name  = input('Enter Name: ')\n",
    "print('Your Name is: ',name.title())"
   ]
  },
  {
   "cell_type": "code",
   "execution_count": 2,
   "metadata": {},
   "outputs": [],
   "source": [
    "# Dictionary \n",
    "\n",
    "# a dictionary is a series of pairs of things\n",
    "# To pick something out of a dictionary, you specify a particular key and ask\n",
    "# what value is paired with it.\n",
    "\n",
    "\n",
    "names = {\n",
    "    \"name\": \"Hassan\",\n",
    "    \"lastName\": \"Raza\"\n",
    "}"
   ]
  },
  {
   "cell_type": "code",
   "execution_count": 3,
   "metadata": {},
   "outputs": [
    {
     "data": {
      "text/plain": [
       "'Hassan'"
      ]
     },
     "execution_count": 3,
     "metadata": {},
     "output_type": "execute_result"
    }
   ],
   "source": [
    "# picking information \n",
    "names[\"name\"]"
   ]
  },
  {
   "cell_type": "code",
   "execution_count": 4,
   "metadata": {},
   "outputs": [],
   "source": [
    "# Adding Elements \n",
    "\n",
    "names[\"cast\"] = \"Gadhi\""
   ]
  },
  {
   "cell_type": "code",
   "execution_count": 5,
   "metadata": {},
   "outputs": [
    {
     "data": {
      "text/plain": [
       "{'name': 'Hassan', 'lastName': 'Raza', 'cast': 'Gadhi'}"
      ]
     },
     "execution_count": 5,
     "metadata": {},
     "output_type": "execute_result"
    }
   ],
   "source": [
    "names"
   ]
  },
  {
   "cell_type": "code",
   "execution_count": 6,
   "metadata": {},
   "outputs": [],
   "source": [
    "# Removing and changing items\n",
    "\n",
    "del names[\"name\"]"
   ]
  },
  {
   "cell_type": "code",
   "execution_count": 7,
   "metadata": {},
   "outputs": [
    {
     "data": {
      "text/plain": [
       "{'lastName': 'Raza', 'cast': 'Gadhi'}"
      ]
     },
     "execution_count": 7,
     "metadata": {},
     "output_type": "execute_result"
    }
   ],
   "source": [
    "names"
   ]
  },
  {
   "cell_type": "code",
   "execution_count": 8,
   "metadata": {},
   "outputs": [],
   "source": [
    "names[\"lastName\"] = \"Hassan\""
   ]
  },
  {
   "cell_type": "code",
   "execution_count": 9,
   "metadata": {},
   "outputs": [
    {
     "data": {
      "text/plain": [
       "{'lastName': 'Hassan', 'cast': 'Gadhi'}"
      ]
     },
     "execution_count": 9,
     "metadata": {},
     "output_type": "execute_result"
    }
   ],
   "source": [
    "names"
   ]
  },
  {
   "cell_type": "code",
   "execution_count": 10,
   "metadata": {},
   "outputs": [
    {
     "name": "stdout",
     "output_type": "stream",
     "text": [
      "Hassan\n",
      "Gadhi\n"
     ]
    }
   ],
   "source": [
    "# looping thorugh values\n",
    "\n",
    "for value in names.values():\n",
    "    print(value)"
   ]
  },
  {
   "cell_type": "code",
   "execution_count": 11,
   "metadata": {},
   "outputs": [
    {
     "name": "stdout",
     "output_type": "stream",
     "text": [
      "lastName\n",
      "cast\n"
     ]
    }
   ],
   "source": [
    "# looping through keys\n",
    "\n",
    "for key in names.keys():\n",
    "    print(key)"
   ]
  },
  {
   "cell_type": "code",
   "execution_count": 21,
   "metadata": {},
   "outputs": [
    {
     "name": "stdout",
     "output_type": "stream",
     "text": [
      "lastName: Hassan\n",
      "cast: Gadhi\n"
     ]
    }
   ],
   "source": [
    "# looping through key,value pairs \n",
    "\n",
    "for key,value in names.items():\n",
    "    print(key + \":\",value)"
   ]
  },
  {
   "cell_type": "code",
   "execution_count": 31,
   "metadata": {},
   "outputs": [],
   "source": [
    "# Creating a list of dictionaries\n",
    "\n",
    "names = [\n",
    "    {1: 'Hassan'},\n",
    "    {2: 'Raza'},\n",
    "    {3: 'Gadhi'}\n",
    "]"
   ]
  },
  {
   "cell_type": "code",
   "execution_count": 37,
   "metadata": {},
   "outputs": [
    {
     "data": {
      "text/plain": [
       "'Gadhi'"
      ]
     },
     "execution_count": 37,
     "metadata": {},
     "output_type": "execute_result"
    }
   ],
   "source": [
    "names[2][3]"
   ]
  },
  {
   "cell_type": "code",
   "execution_count": 38,
   "metadata": {},
   "outputs": [],
   "source": [
    "new = {4: 'Aijaz Ali'}\n",
    "\n",
    "names.append(new)"
   ]
  },
  {
   "cell_type": "code",
   "execution_count": 39,
   "metadata": {},
   "outputs": [
    {
     "data": {
      "text/plain": [
       "[{1: 'Hassan'}, {2: 'Raza'}, {3: 'Gadhi'}, {4: 'Aijaz Ali'}]"
      ]
     },
     "execution_count": 39,
     "metadata": {},
     "output_type": "execute_result"
    }
   ],
   "source": [
    "names"
   ]
  },
  {
   "cell_type": "code",
   "execution_count": 40,
   "metadata": {},
   "outputs": [],
   "source": [
    "# creating a dictionary that contains a list\n",
    "\n",
    "dic = {1: [1,2,3,4,5]}"
   ]
  },
  {
   "cell_type": "code",
   "execution_count": 41,
   "metadata": {},
   "outputs": [
    {
     "data": {
      "text/plain": [
       "{1: [1, 2, 3, 4, 5]}"
      ]
     },
     "execution_count": 41,
     "metadata": {},
     "output_type": "execute_result"
    }
   ],
   "source": [
    "dic"
   ]
  },
  {
   "cell_type": "code",
   "execution_count": 45,
   "metadata": {},
   "outputs": [
    {
     "data": {
      "text/plain": [
       "[1, 2, 3]"
      ]
     },
     "execution_count": 45,
     "metadata": {},
     "output_type": "execute_result"
    }
   ],
   "source": [
    "dic[1][:3]"
   ]
  },
  {
   "cell_type": "code",
   "execution_count": 46,
   "metadata": {},
   "outputs": [
    {
     "name": "stdout",
     "output_type": "stream",
     "text": [
      "1\n",
      "2\n",
      "3\n",
      "4\n",
      "5\n"
     ]
    }
   ],
   "source": [
    "for num in dic[1]:\n",
    "    print(num)"
   ]
  },
  {
   "cell_type": "code",
   "execution_count": 53,
   "metadata": {},
   "outputs": [],
   "source": [
    "# Creating a dictionary that contains a dictionary\n",
    "\n",
    "dic_within_dic =  {\n",
    "\n",
    "    \"FirstName\": {\n",
    "        1: \"Hassan\"\n",
    "    },\n",
    "    \"LastName\": {\n",
    "        2: \"Raza\"\n",
    "    },\n",
    "    \"FullName\": {\n",
    "        3: \"Hassan Raza\"\n",
    "    }\n",
    "}"
   ]
  },
  {
   "cell_type": "code",
   "execution_count": 55,
   "metadata": {},
   "outputs": [
    {
     "data": {
      "text/plain": [
       "'Hassan'"
      ]
     },
     "execution_count": 55,
     "metadata": {},
     "output_type": "execute_result"
    }
   ],
   "source": [
    "dic_within_dic[\"FirstName\"][1]"
   ]
  },
  {
   "cell_type": "code",
   "execution_count": 10,
   "metadata": {},
   "outputs": [
    {
     "name": "stdout",
     "output_type": "stream",
     "text": [
      "5\n"
     ]
    }
   ],
   "source": [
    "# Function \n",
    "\n",
    "# function is a block of Python code that robotically\n",
    "# does the same thing again\n",
    "# and again, whenever you invoke its name.\n",
    "\n",
    "def add_numbers():\n",
    "    first_number = 2\n",
    "    second_number = 3\n",
    "    print(first_number + second_number)\n",
    "    \n",
    "add_numbers()    "
   ]
  },
  {
   "cell_type": "code",
   "execution_count": 11,
   "metadata": {},
   "outputs": [
    {
     "name": "stdout",
     "output_type": "stream",
     "text": [
      "50\n"
     ]
    }
   ],
   "source": [
    "#Passing them information\n",
    "\n",
    "def add_numbers(first_number, second_number):\n",
    "    total = first_number + second_number\n",
    "    print(total)\n",
    "    \n",
    "add_numbers(20,30)"
   ]
  },
  {
   "cell_type": "code",
   "execution_count": 12,
   "metadata": {},
   "outputs": [
    {
     "name": "stdout",
     "output_type": "stream",
     "text": [
      "Total:  300\n"
     ]
    }
   ],
   "source": [
    "# Passing information to them a different way\n",
    "\n",
    "def add_numbers(first_number, second_number):\n",
    "    total = first_number + second_number\n",
    "    print(\"Total: \", total)\n",
    "    \n",
    "add_numbers(second_number=100, first_number=200)    "
   ]
  },
  {
   "cell_type": "code",
   "execution_count": 19,
   "metadata": {},
   "outputs": [
    {
     "name": "stdout",
     "output_type": "stream",
     "text": [
      "Total :  120\n"
     ]
    }
   ],
   "source": [
    "# Assigning a default value to a parameter\n",
    "\n",
    "def add_numbers(first_numbers, second_number=100):\n",
    "    total = first_numbers + second_number\n",
    "    print(\"Total : \", total)\n",
    "    \n",
    "add_numbers(first_numbers=20)"
   ]
  },
  {
   "cell_type": "code",
   "execution_count": 22,
   "metadata": {},
   "outputs": [
    {
     "name": "stdout",
     "output_type": "stream",
     "text": [
      "Total :  0\n"
     ]
    }
   ],
   "source": [
    "# Mixing positional and keyword arguments\n",
    "\n",
    "def add_numbers(first_numbers, second_number):\n",
    "    total = first_numbers + second_number\n",
    "    print(\"Total : \", total)\n",
    "    \n",
    "add_numbers(30, second_number=-30)"
   ]
  },
  {
   "cell_type": "code",
   "execution_count": 26,
   "metadata": {},
   "outputs": [
    {
     "name": "stdout",
     "output_type": "stream",
     "text": [
      "hassan\n"
     ]
    }
   ],
   "source": [
    "# passing a dictionary to the function\n",
    "\n",
    "dic = {\n",
    "    \"name\" : \"hassan\"\n",
    "}\n",
    "\n",
    "def find(key):\n",
    "    print(key)\n",
    "    \n",
    "find(dic[\"name\"])"
   ]
  },
  {
   "cell_type": "code",
   "execution_count": 37,
   "metadata": {},
   "outputs": [],
   "source": [
    "# dealing with unknown arguments "
   ]
  },
  {
   "cell_type": "code",
   "execution_count": 13,
   "metadata": {},
   "outputs": [
    {
     "name": "stdout",
     "output_type": "stream",
     "text": [
      "First_Name:  Hassan\n",
      "last_name:  Raza\n",
      "caste: Gadhi\n",
      "DOB: 03/02/1999\n"
     ]
    }
   ],
   "source": [
    "def info(first_name, last_name, **other_info):\n",
    "    print('First_Name: ', first_name)\n",
    "    print('last_name: ', last_name)\n",
    "    for key,value in other_info.items():\n",
    "        print(key + \": \" + value)\n",
    "        \n",
    "info('Hassan', 'Raza', caste='Gadhi', DOB='03/02/1999')        "
   ]
  },
  {
   "cell_type": "code",
   "execution_count": 16,
   "metadata": {},
   "outputs": [
    {
     "name": "stdout",
     "output_type": "stream",
     "text": [
      "10\n",
      "20\n",
      "(30, 40, 50)\n"
     ]
    }
   ],
   "source": [
    "# Positional arguments can be optional as well.\n",
    "\n",
    "def display(first_number, second_number, *opt_nums):\n",
    "    print(first_number)\n",
    "    print(second_number)\n",
    "    print(opt_nums)\n",
    "    \n",
    "display(10,20,30,40,50)    "
   ]
  },
  {
   "cell_type": "code",
   "execution_count": 17,
   "metadata": {},
   "outputs": [],
   "source": [
    "# passing informarion back from them \n",
    "\n",
    "def add_numbers(first_number, second_number):\n",
    "    return first_number + second_number\n",
    "\n",
    "\n",
    "total = add_numbers(20,30)"
   ]
  },
  {
   "cell_type": "code",
   "execution_count": 18,
   "metadata": {},
   "outputs": [
    {
     "name": "stdout",
     "output_type": "stream",
     "text": [
      "50\n"
     ]
    }
   ],
   "source": [
    "print(total)"
   ]
  },
  {
   "cell_type": "code",
   "execution_count": 20,
   "metadata": {},
   "outputs": [
    {
     "name": "stdout",
     "output_type": "stream",
     "text": [
      "120\n"
     ]
    }
   ],
   "source": [
    "# Using functions as variables\n",
    "\n",
    "def add_numbers(first_number, second_number):\n",
    "    return first_number + second_number\n",
    "\n",
    "def sub_numbers(first_number, second_number):\n",
    "    return first_number - second_number\n",
    "\n",
    "sum_of_numbers = add_numbers(20, 30) + sub_numbers(30, -40)\n",
    "print(sum_of_numbers)"
   ]
  },
  {
   "cell_type": "code",
   "execution_count": null,
   "metadata": {},
   "outputs": [],
   "source": [
    "# local and global variables \n",
    "\n",
    "# Global --> A global variable is one you define\n",
    "#                in the main body of your code\n",
    "\n",
    "# Local --> Inside the function body\n",
    "\n",
    "\n",
    "name = \"Hassan\"   # --->  Global\n",
    "\n",
    "def add():\n",
    "    name = \"Hassan\"       # --> Local     "
   ]
  },
  {
   "cell_type": "code",
   "execution_count": null,
   "metadata": {},
   "outputs": [],
   "source": []
  }
 ],
 "metadata": {
  "kernelspec": {
   "display_name": "Python 3",
   "language": "python",
   "name": "python3"
  },
  "language_info": {
   "codemirror_mode": {
    "name": "ipython",
    "version": 3
   },
   "file_extension": ".py",
   "mimetype": "text/x-python",
   "name": "python",
   "nbconvert_exporter": "python",
   "pygments_lexer": "ipython3",
   "version": "3.7.4"
  }
 },
 "nbformat": 4,
 "nbformat_minor": 2
}
